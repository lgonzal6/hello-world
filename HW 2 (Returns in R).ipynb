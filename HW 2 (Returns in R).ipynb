{
 "cells": [
  {
   "cell_type": "markdown",
   "metadata": {},
   "source": [
    "## HW 2: Daily and Monthly Returns for a stock and macroeconomic series \n",
    "### Luisa Gonzalez & Debbie Li "
   ]
  },
  {
   "cell_type": "markdown",
   "metadata": {},
   "source": [
    "## Part I: Stock Series"
   ]
  },
  {
   "cell_type": "code",
   "execution_count": 21,
   "metadata": {},
   "outputs": [],
   "source": [
    "library(quantmod)"
   ]
  },
  {
   "cell_type": "code",
   "execution_count": 22,
   "metadata": {},
   "outputs": [],
   "source": [
    "library(ggplot2)"
   ]
  },
  {
   "cell_type": "markdown",
   "metadata": {},
   "source": [
    "#### Obtain Stock Prices from Yahoo"
   ]
  },
  {
   "cell_type": "code",
   "execution_count": 23,
   "metadata": {
    "scrolled": true
   },
   "outputs": [
    {
     "data": {
      "text/html": [
       "'AAPL'"
      ],
      "text/latex": [
       "'AAPL'"
      ],
      "text/markdown": [
       "'AAPL'"
      ],
      "text/plain": [
       "[1] \"AAPL\""
      ]
     },
     "metadata": {},
     "output_type": "display_data"
    }
   ],
   "source": [
    "getSymbols(\"AAPL\", from = \"1999-12-31\", to = \"2019-12-31\")"
   ]
  },
  {
   "cell_type": "code",
   "execution_count": 8,
   "metadata": {
    "scrolled": false
   },
   "outputs": [
    {
     "data": {
      "text/plain": [
       "           AAPL.Open AAPL.High AAPL.Low AAPL.Close AAPL.Volume AAPL.Adjusted\n",
       "1999-12-31  3.604911  3.674107 3.553571   3.671875    40952800      3.187337\n",
       "2000-01-03  3.745536  4.017857 3.631696   3.997768   133949200      3.470226\n",
       "2000-01-04  3.866071  3.950893 3.613839   3.660714   128094400      3.177650\n",
       "2000-01-05  3.705357  3.948661 3.678571   3.714286   194580400      3.224152\n",
       "2000-01-06  3.790179  3.821429 3.392857   3.392857   191993200      2.945139\n",
       "2000-01-07  3.446429  3.607143 3.410714   3.553571   115183600      3.084645"
      ]
     },
     "metadata": {},
     "output_type": "display_data"
    }
   ],
   "source": [
    "head(AAPL)"
   ]
  },
  {
   "cell_type": "markdown",
   "metadata": {},
   "source": [
    "#### Convert Prices into Daily Returns"
   ]
  },
  {
   "cell_type": "code",
   "execution_count": 31,
   "metadata": {},
   "outputs": [],
   "source": [
    "AAPL_Ret <- dailyReturn(Ad(AAPL), type='arithmetic' )"
   ]
  },
  {
   "cell_type": "code",
   "execution_count": 32,
   "metadata": {},
   "outputs": [
    {
     "data": {
      "text/plain": [
       "           daily.returns\n",
       "1999-12-31    0.00000000\n",
       "2000-01-03    0.08875403\n",
       "2000-01-04   -0.08431036\n",
       "2000-01-05    0.01463408\n",
       "2000-01-06   -0.08653841\n",
       "2000-01-07    0.04736822"
      ]
     },
     "metadata": {},
     "output_type": "display_data"
    }
   ],
   "source": [
    "head(AAPL_Ret)"
   ]
  },
  {
   "cell_type": "markdown",
   "metadata": {},
   "source": [
    "#### Calculate Moments for Daily Returns "
   ]
  },
  {
   "cell_type": "code",
   "execution_count": 11,
   "metadata": {},
   "outputs": [],
   "source": [
    "library(e1071)"
   ]
  },
  {
   "cell_type": "code",
   "execution_count": 12,
   "metadata": {},
   "outputs": [
    {
     "data": {
      "text/html": [
       "0.00123605507457134"
      ],
      "text/latex": [
       "0.00123605507457134"
      ],
      "text/markdown": [
       "0.00123605507457134"
      ],
      "text/plain": [
       "[1] 0.001236055"
      ]
     },
     "metadata": {},
     "output_type": "display_data"
    }
   ],
   "source": [
    "mean(AAPL_Ret)"
   ]
  },
  {
   "cell_type": "code",
   "execution_count": 13,
   "metadata": {},
   "outputs": [
    {
     "data": {
      "text/html": [
       "<table>\n",
       "<thead><tr><th></th><th scope=col>daily.returns</th></tr></thead>\n",
       "<tbody>\n",
       "\t<tr><th scope=row>daily.returns</th><td>0.0006462451</td></tr>\n",
       "</tbody>\n",
       "</table>\n"
      ],
      "text/latex": [
       "\\begin{tabular}{r|l}\n",
       "  & daily.returns\\\\\n",
       "\\hline\n",
       "\tdaily.returns & 0.0006462451\\\\\n",
       "\\end{tabular}\n"
      ],
      "text/markdown": [
       "\n",
       "| <!--/--> | daily.returns |\n",
       "|---|---|\n",
       "| daily.returns | 0.0006462451 |\n",
       "\n"
      ],
      "text/plain": [
       "              daily.returns\n",
       "daily.returns 0.0006462451 "
      ]
     },
     "metadata": {},
     "output_type": "display_data"
    }
   ],
   "source": [
    "var(AAPL_Ret)"
   ]
  },
  {
   "cell_type": "code",
   "execution_count": 14,
   "metadata": {},
   "outputs": [
    {
     "data": {
      "text/html": [
       "0.0254213513498027"
      ],
      "text/latex": [
       "0.0254213513498027"
      ],
      "text/markdown": [
       "0.0254213513498027"
      ],
      "text/plain": [
       "[1] 0.02542135"
      ]
     },
     "metadata": {},
     "output_type": "display_data"
    }
   ],
   "source": [
    "sd(AAPL_Ret)"
   ]
  },
  {
   "cell_type": "code",
   "execution_count": 15,
   "metadata": {},
   "outputs": [
    {
     "data": {
      "text/html": [
       "-1.63047829234446"
      ],
      "text/latex": [
       "-1.63047829234446"
      ],
      "text/markdown": [
       "-1.63047829234446"
      ],
      "text/plain": [
       "[1] -1.630478"
      ]
     },
     "metadata": {},
     "output_type": "display_data"
    }
   ],
   "source": [
    "skewness(AAPL_Ret, type=1)"
   ]
  },
  {
   "cell_type": "code",
   "execution_count": 26,
   "metadata": {},
   "outputs": [
    {
     "data": {
      "text/html": [
       "38.3052757168206"
      ],
      "text/latex": [
       "38.3052757168206"
      ],
      "text/markdown": [
       "38.3052757168206"
      ],
      "text/plain": [
       "[1] 38.30528"
      ]
     },
     "metadata": {},
     "output_type": "display_data"
    }
   ],
   "source": [
    "kurtosis(AAPL_Ret, type=1)"
   ]
  },
  {
   "cell_type": "markdown",
   "metadata": {},
   "source": [
    "#### Test for Normality of Daily Returns Using Jarque-Bera Test"
   ]
  },
  {
   "cell_type": "code",
   "execution_count": 17,
   "metadata": {},
   "outputs": [],
   "source": [
    "library(normtest)"
   ]
  },
  {
   "cell_type": "code",
   "execution_count": 18,
   "metadata": {
    "scrolled": true
   },
   "outputs": [
    {
     "data": {
      "text/plain": [
       "\n",
       "\tJarque-Bera test for normality\n",
       "\n",
       "data:  AAPL_Ret\n",
       "JB = 309811, p-value < 2.2e-16\n"
      ]
     },
     "metadata": {},
     "output_type": "display_data"
    }
   ],
   "source": [
    "jb.norm.test(AAPL_Ret, nrepl=2000)"
   ]
  },
  {
   "cell_type": "markdown",
   "metadata": {},
   "source": [
    "#### Plot Daily Returns "
   ]
  },
  {
   "cell_type": "code",
   "execution_count": 27,
   "metadata": {},
   "outputs": [
    {
     "name": "stderr",
     "output_type": "stream",
     "text": [
      "Don't know how to automatically pick scale for object of type xts/zoo. Defaulting to continuous.\n"
     ]
    },
    {
     "data": {
      "image/png": "[encoded data removed]",
      "text/plain": [
       "plot without title"
      ]
     },
     "metadata": {},
     "output_type": "display_data"
    }
   ],
   "source": [
    "ggplot(AAPL_Ret, aes(x = index(AAPL_Ret), y = AAPL_Ret)) +  geom_line(color = \"deepskyblue4\") +\n",
    "  ggtitle(\"AAPL Daily Returns\") + xlab(\"Date\") + ylab(\"Return\") +  \n",
    "theme(plot.title = element_text(hjust = 0.5)) + scale_x_date(date_labels = \"%b %y\", date_breaks = \"2 years\")"
   ]
  },
  {
   "cell_type": "markdown",
   "metadata": {},
   "source": [
    "#### Convert Prices into Monthly Returns"
   ]
  },
  {
   "cell_type": "code",
   "execution_count": 33,
   "metadata": {},
   "outputs": [],
   "source": [
    "AAPL_MonRet <- monthlyReturn(Ad(AAPL), type='arithmetic' )"
   ]
  },
  {
   "cell_type": "markdown",
   "metadata": {},
   "source": [
    "#### Calculate Moments for Monthly Returns"
   ]
  },
  {
   "cell_type": "code",
   "execution_count": 34,
   "metadata": {},
   "outputs": [
    {
     "data": {
      "text/html": [
       "0.0261316903900679"
      ],
      "text/latex": [
       "0.0261316903900679"
      ],
      "text/markdown": [
       "0.0261316903900679"
      ],
      "text/plain": [
       "[1] 0.02613169"
      ]
     },
     "metadata": {},
     "output_type": "display_data"
    }
   ],
   "source": [
    "mean(AAPL_MonRet)"
   ]
  },
  {
   "cell_type": "code",
   "execution_count": 35,
   "metadata": {},
   "outputs": [
    {
     "data": {
      "text/html": [
       "<table>\n",
       "<thead><tr><th></th><th scope=col>monthly.returns</th></tr></thead>\n",
       "<tbody>\n",
       "\t<tr><th scope=row>monthly.returns</th><td>0.01347281</td></tr>\n",
       "</tbody>\n",
       "</table>\n"
      ],
      "text/latex": [
       "\\begin{tabular}{r|l}\n",
       "  & monthly.returns\\\\\n",
       "\\hline\n",
       "\tmonthly.returns & 0.01347281\\\\\n",
       "\\end{tabular}\n"
      ],
      "text/markdown": [
       "\n",
       "| <!--/--> | monthly.returns |\n",
       "|---|---|\n",
       "| monthly.returns | 0.01347281 |\n",
       "\n"
      ],
      "text/plain": [
       "                monthly.returns\n",
       "monthly.returns 0.01347281     "
      ]
     },
     "metadata": {},
     "output_type": "display_data"
    }
   ],
   "source": [
    "var(AAPL_MonRet)"
   ]
  },
  {
   "cell_type": "code",
   "execution_count": 36,
   "metadata": {},
   "outputs": [
    {
     "data": {
      "text/html": [
       "0.116072439118221"
      ],
      "text/latex": [
       "0.116072439118221"
      ],
      "text/markdown": [
       "0.116072439118221"
      ],
      "text/plain": [
       "[1] 0.1160724"
      ]
     },
     "metadata": {},
     "output_type": "display_data"
    }
   ],
   "source": [
    "sd(AAPL_MonRet)"
   ]
  },
  {
   "cell_type": "code",
   "execution_count": 37,
   "metadata": {},
   "outputs": [
    {
     "data": {
      "text/html": [
       "-0.638127540761006"
      ],
      "text/latex": [
       "-0.638127540761006"
      ],
      "text/markdown": [
       "-0.638127540761006"
      ],
      "text/plain": [
       "[1] -0.6381275"
      ]
     },
     "metadata": {},
     "output_type": "display_data"
    }
   ],
   "source": [
    "skewness(AAPL_MonRet, type=1)"
   ]
  },
  {
   "cell_type": "code",
   "execution_count": 40,
   "metadata": {},
   "outputs": [
    {
     "data": {
      "text/html": [
       "38.3052757168206"
      ],
      "text/latex": [
       "38.3052757168206"
      ],
      "text/markdown": [
       "38.3052757168206"
      ],
      "text/plain": [
       "[1] 38.30528"
      ]
     },
     "metadata": {},
     "output_type": "display_data"
    }
   ],
   "source": [
    "kurtosis(AAPL_Ret, type=1)"
   ]
  },
  {
   "cell_type": "markdown",
   "metadata": {},
   "source": [
    "#### Test for Normality of Daily Returns Using Jarque-Bera Test"
   ]
  },
  {
   "cell_type": "code",
   "execution_count": 41,
   "metadata": {},
   "outputs": [
    {
     "data": {
      "text/plain": [
       "\n",
       "\tJarque-Bera test for normality\n",
       "\n",
       "data:  AAPL_MonRet\n",
       "JB = 140.86, p-value < 2.2e-16\n"
      ]
     },
     "metadata": {},
     "output_type": "display_data"
    }
   ],
   "source": [
    "jb.norm.test(AAPL_MonRet, nrepl=2000)"
   ]
  },
  {
   "cell_type": "markdown",
   "metadata": {},
   "source": [
    "#### Plot Monthly Returns"
   ]
  },
  {
   "cell_type": "code",
   "execution_count": 42,
   "metadata": {},
   "outputs": [
    {
     "name": "stderr",
     "output_type": "stream",
     "text": [
      "Don't know how to automatically pick scale for object of type xts/zoo. Defaulting to continuous.\n"
     ]
    },
    {
     "data": {
      "image/png": "[encoded data removed]",
      "text/plain": [
       "plot without title"
      ]
     },
     "metadata": {},
     "output_type": "display_data"
    }
   ],
   "source": [
    "ggplot(AAPL_MonRet, aes(x = index(AAPL_MonRet), y = AAPL_MonRet)) +  geom_line(color = \"deepskyblue4\") +\n",
    "  ggtitle(\"AAPL Monthly Returns\") + xlab(\"Date\") + ylab(\"Return\") +  \n",
    "theme(plot.title = element_text(hjust = 0.5)) + scale_x_date(date_labels = \"%b %y\", date_breaks = \"2 years\")"
   ]
  }
 ],
 "metadata": {
  "kernelspec": {
   "display_name": "R",
   "language": "R",
   "name": "ir"
  },
  "language_info": {
   "codemirror_mode": "r",
   "file_extension": ".r",
   "mimetype": "text/x-r-source",
   "name": "R",
   "pygments_lexer": "r",
   "version": "3.6.1"
  }
 },
 "nbformat": 4,
 "nbformat_minor": 2
}
